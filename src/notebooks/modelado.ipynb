{
 "cells": [
  {
   "cell_type": "markdown",
   "metadata": {},
   "source": [
    "## MODELADO PIPELINE"
   ]
  },
  {
   "cell_type": "markdown",
   "metadata": {},
   "source": [
    "Comparacion de __RegressionLinear__, __RandomForest__ y __XGBoost__"
   ]
  },
  {
   "cell_type": "code",
   "execution_count": null,
   "metadata": {},
   "outputs": [],
   "source": [
    "import numpy as np\n",
    "import pandas as pd\n",
    "\n",
    "from sklearn.model_selection import train_test_split, GridSearchCV, cross_val_score\n",
    "\n",
    "from sklearn.pipeline import Pipeline\n",
    "from sklearn.ensemble import RandomForestRegressor\n",
    "from sklearn.linear_model import LinearRegression\n",
    "import xgboost as xgb\n",
    "from sklearn.metrics import mean_squared_error, mean_absolute_error, r2_score, root_mean_squared_error"
   ]
  },
  {
   "cell_type": "code",
   "execution_count": null,
   "metadata": {},
   "outputs": [],
   "source": [
    "\n",
    "\n",
    "# Pipeline para Linear Regression\n",
    "lr_pipeline = Pipeline([\n",
    "    ('Premodelado', preprocessing),   \n",
    "    ('ModeloRegressor', LinearRegression())\n",
    "])\n",
    "\n",
    "# Pipeline para Random Forest\n",
    "rf_pipeline = Pipeline([\n",
    "    ('Premodelado', preprocessing),\n",
    "    ('ModeloRegressor', RandomForestRegressor(random_state=42))\n",
    "])\n",
    "\n",
    "# Pipeline para XGBoost\n",
    "xgb_pipeline = Pipeline([\n",
    "    ('Premodelado', preprocessing),\n",
    "    ('ModeloRegressor', xgb.XGBRegressor(random_state=42))\n",
    "])\n",
    "\n",
    "\n",
    "#se aplica la validacion cruzada a cada modelo \n",
    "#scoring utilizo la raiz del error cuadratico medio\n",
    "for name, pipe in zip([\"lr_pipeline\",\"rf_pipeline\", \"xgb_pipeline\"],[lr_pipeline, rf_pipeline, xgb_pipeline]):\n",
    "    resultado = cross_val_score(pipe, train, y_train, cv = 5, scoring = \"neg_root_mean_squared_error\")\n",
    "    print(f\"{name}: {np.mean(resultado):.4f}\")\n",
    "    print(resultado)\n",
    "\n",
    "\n",
    "    "
   ]
  },
  {
   "cell_type": "code",
   "execution_count": null,
   "metadata": {},
   "outputs": [],
   "source": [
    "cv=5 \n",
    "\n",
    "\n",
    "\n",
    "# Linear Regression\n",
    "lr_params = {\n",
    "    'ModeloRegressor__fit_intercept': [True, False], # si tiene o no intercept\n",
    "    'ModeloRegressor__normalize' :  [True, False]  # normaliza, aunque puede ser redundante si ya se han prpcesado correctamente los datos\n",
    "}\n",
    "\n",
    "lr_grid = GridSearchCV(\n",
    "    lr_pipeline, \n",
    "    lr_params, \n",
    "    cv=cv, \n",
    "    scoring='neg_root_mean_square_error',\n",
    "    verbose=1,\n",
    "    n_jobs=-1\n",
    ")\n",
    "\n",
    "# Random Forest GridSearchCV\n",
    "rf_params = {\n",
    "    'ModeloRegressor__n_estimators': [50, 100, 200],\n",
    "    'ModeloRegressor__max_depth': [None, 10, 20, 50],\n",
    "    'ModeloRegressor__min_samples_split': [2, 5],\n",
    "    # 'ModeloRegressor__bootstrap': [True, False] #`bootstrap`: Puede ser interesante probar tanto True como False  \n",
    "}\n",
    "\n",
    "rf_grid = GridSearchCV(\n",
    "    rf_pipeline, \n",
    "    rf_params, \n",
    "    cv=cv, \n",
    "    scoring='neg_root_mean_square_error',\n",
    "    verbose=1,\n",
    "    n_jobs=-1\n",
    ")\n",
    "\n",
    "\n",
    "\n",
    "# XGBoost GridSearchCV\n",
    "xgb_params = {\n",
    "    'ModeloRegressor__n_estimators': [50, 100, 200],\n",
    "    'ModeloRegressor__learning_rate': [0.05, 0.1],\n",
    "    'ModeloRegressor__max_depth': [3, 5, 10],\n",
    "    'ModeloRegressor__subsample': [0.8, 1.0]\n",
    "}\n",
    "\n",
    "xgb_grid = GridSearchCV(\n",
    "    xgb_pipeline, \n",
    "    xgb_params, \n",
    "    cv=cv, \n",
    "    scoring='neg_root_mean_square_error',\n",
    "    verbose=1,\n",
    "    n_jobs=-1\n",
    ")\n",
    "\n",
    "\n",
    "pipe_grids = {\"lr\":lr_grid,\n",
    "         \"gs_rand_forest\":rf_grid,\n",
    "         \"gs_xgb\":xgb_grid}\n"
   ]
  },
  {
   "cell_type": "code",
   "execution_count": null,
   "metadata": {},
   "outputs": [],
   "source": [
    "#split\n",
    "X_train, X_test, y_train, y_test = train_test_split(X, y, test_size=0.2, random_state=42)\n"
   ]
  },
  {
   "cell_type": "code",
   "execution_count": null,
   "metadata": {},
   "outputs": [],
   "source": [
    "#entrenamos modelo\n",
    "%%time\n",
    "\n",
    "for nombre, grid_search in pipe_grids.items():\n",
    "    grid_search.fit(train, y_train)"
   ]
  },
  {
   "cell_type": "code",
   "execution_count": null,
   "metadata": {},
   "outputs": [],
   "source": [
    "#df comparacin de modelos\n",
    "\n",
    "best_grids = [(i, j.best_score_) for i, j in pipe_grids.items()]\n",
    "\n",
    "best_grids = pd.DataFrame(best_grids, columns=[\"Grid\", \"Best score\"]).sort_values(by=\"Best score\", ascending=False)\n",
    "best_grids"
   ]
  },
  {
   "cell_type": "code",
   "execution_count": null,
   "metadata": {},
   "outputs": [],
   "source": [
    "#Mejor modelo\n",
    "best_model = pipe_grids[best_grids.iloc[0,0]]\n",
    "best_model"
   ]
  },
  {
   "cell_type": "code",
   "execution_count": null,
   "metadata": {},
   "outputs": [],
   "source": [
    "# Evaluar en conjunto de prueba\n",
    "y_pred = best_model.predict(X_test)\n",
    "    "
   ]
  },
  {
   "cell_type": "code",
   "execution_count": null,
   "metadata": {},
   "outputs": [],
   "source": [
    "# Calcular métricas\n",
    "rmse = root_mean_squared_error(y_test, y_pred)\n",
    "# mse = mean_squared_error(y_test, y_pred)\n",
    "# rmse = np.sqrt(mse)     # si no funciona el root\n",
    "r2 = r2_score(y_test, y_pred)"
   ]
  },
  {
   "cell_type": "code",
   "execution_count": null,
   "metadata": {},
   "outputs": [],
   "source": [
    "#Guardar modelo\n",
    "\n",
    "## Usando joblib:\n",
    "joblib.dump(best_model, 'modelo_pipeline.joblib')"
   ]
  }
 ],
 "metadata": {
  "kernelspec": {
   "display_name": "entorno_virtual",
   "language": "python",
   "name": "python3"
  },
  "language_info": {
   "codemirror_mode": {
    "name": "ipython",
    "version": 3
   },
   "file_extension": ".py",
   "mimetype": "text/x-python",
   "name": "python",
   "nbconvert_exporter": "python",
   "pygments_lexer": "ipython3",
   "version": "3.12.7"
  }
 },
 "nbformat": 4,
 "nbformat_minor": 2
}
