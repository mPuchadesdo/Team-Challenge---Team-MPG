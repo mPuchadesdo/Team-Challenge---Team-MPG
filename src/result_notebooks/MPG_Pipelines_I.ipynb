{
 "cells": [
  {
   "cell_type": "code",
   "execution_count": 26,
   "metadata": {},
   "outputs": [],
   "source": [
    "import sys\n",
    "\n",
    "sys.path.insert(0, '../')\n",
    "import utils.common as cm\n",
    "\n",
    "import pandas as pd\n",
    "import numpy as np\n",
    "import matplotlib.pyplot as plt\n",
    "import seaborn as sns\n",
    "\n",
    "from sklearn.model_selection import train_test_split, GridSearchCV, cross_val_score\n",
    "from sklearn.ensemble import RandomForestRegressor\n",
    "from sklearn.linear_model import LinearRegression\n",
    "import xgboost as xgb\n",
    "from sklearn.metrics import mean_squared_error, mean_absolute_error, r2_score, root_mean_squared_error\n",
    "from sklearn.preprocessing import MinMaxScaler, OneHotEncoder, FunctionTransformer\n",
    "from sklearn.impute import SimpleImputer\n",
    "from sklearn.preprocessing import OneHotEncoder\n",
    "from sklearn.compose import ColumnTransformer\n",
    "from sklearn.pipeline import Pipeline, make_pipeline\n",
    "from sklearn.compose import ColumnTransformer"
   ]
  },
  {
   "cell_type": "code",
   "execution_count": 27,
   "metadata": {},
   "outputs": [],
   "source": [
    "# pip install xgboost"
   ]
  },
  {
   "cell_type": "code",
   "execution_count": 28,
   "metadata": {},
   "outputs": [],
   "source": [
    "# pip install scikit-learn"
   ]
  },
  {
   "cell_type": "code",
   "execution_count": 29,
   "metadata": {},
   "outputs": [
    {
     "data": {
      "text/html": [
       "<div>\n",
       "<style scoped>\n",
       "    .dataframe tbody tr th:only-of-type {\n",
       "        vertical-align: middle;\n",
       "    }\n",
       "\n",
       "    .dataframe tbody tr th {\n",
       "        vertical-align: top;\n",
       "    }\n",
       "\n",
       "    .dataframe thead th {\n",
       "        text-align: right;\n",
       "    }\n",
       "</style>\n",
       "<table border=\"1\" class=\"dataframe\">\n",
       "  <thead>\n",
       "    <tr style=\"text-align: right;\">\n",
       "      <th></th>\n",
       "      <th>year</th>\n",
       "      <th>brand</th>\n",
       "      <th>model</th>\n",
       "      <th>vehicle_class</th>\n",
       "      <th>engine_size</th>\n",
       "      <th>cylinders</th>\n",
       "      <th>transmission</th>\n",
       "      <th>fuel_type</th>\n",
       "      <th>fuel_city_Lkm</th>\n",
       "      <th>fuel_hwy_Lkm</th>\n",
       "      <th>fuel_comb_Lkm</th>\n",
       "      <th>fuel_comb_mpg</th>\n",
       "      <th>co2</th>\n",
       "    </tr>\n",
       "  </thead>\n",
       "  <tbody>\n",
       "    <tr>\n",
       "      <th>0</th>\n",
       "      <td>2002</td>\n",
       "      <td>FORD</td>\n",
       "      <td>FOCUS SEDAN #</td>\n",
       "      <td>COMPACT</td>\n",
       "      <td>2.0</td>\n",
       "      <td>4</td>\n",
       "      <td>A4</td>\n",
       "      <td>X</td>\n",
       "      <td>9.1</td>\n",
       "      <td>6.8</td>\n",
       "      <td>8.1</td>\n",
       "      <td>35</td>\n",
       "      <td>186</td>\n",
       "    </tr>\n",
       "    <tr>\n",
       "      <th>1</th>\n",
       "      <td>2021</td>\n",
       "      <td>Porsche</td>\n",
       "      <td>Panamera Turbo S</td>\n",
       "      <td>Full-size</td>\n",
       "      <td>4.0</td>\n",
       "      <td>8</td>\n",
       "      <td>AM8</td>\n",
       "      <td>Z</td>\n",
       "      <td>15.3</td>\n",
       "      <td>11.2</td>\n",
       "      <td>13.5</td>\n",
       "      <td>21</td>\n",
       "      <td>326</td>\n",
       "    </tr>\n",
       "    <tr>\n",
       "      <th>2</th>\n",
       "      <td>2011</td>\n",
       "      <td>INFINITI</td>\n",
       "      <td>EX35 AWD</td>\n",
       "      <td>STATION WAGON - SMALL</td>\n",
       "      <td>3.5</td>\n",
       "      <td>6</td>\n",
       "      <td>AS7</td>\n",
       "      <td>Z</td>\n",
       "      <td>12.4</td>\n",
       "      <td>8.5</td>\n",
       "      <td>10.6</td>\n",
       "      <td>27</td>\n",
       "      <td>244</td>\n",
       "    </tr>\n",
       "    <tr>\n",
       "      <th>3</th>\n",
       "      <td>2005</td>\n",
       "      <td>BUICK</td>\n",
       "      <td>RENDEZVOUS AWD</td>\n",
       "      <td>SUV</td>\n",
       "      <td>3.4</td>\n",
       "      <td>6</td>\n",
       "      <td>A4</td>\n",
       "      <td>X</td>\n",
       "      <td>12.7</td>\n",
       "      <td>8.7</td>\n",
       "      <td>10.9</td>\n",
       "      <td>26</td>\n",
       "      <td>251</td>\n",
       "    </tr>\n",
       "    <tr>\n",
       "      <th>4</th>\n",
       "      <td>2016</td>\n",
       "      <td>ROLLS-ROYCE</td>\n",
       "      <td>GHOST EWB</td>\n",
       "      <td>FULL-SIZE</td>\n",
       "      <td>6.6</td>\n",
       "      <td>12</td>\n",
       "      <td>AS8</td>\n",
       "      <td>Z</td>\n",
       "      <td>19.2</td>\n",
       "      <td>12.4</td>\n",
       "      <td>16.1</td>\n",
       "      <td>18</td>\n",
       "      <td>373</td>\n",
       "    </tr>\n",
       "  </tbody>\n",
       "</table>\n",
       "</div>"
      ],
      "text/plain": [
       "   year        brand             model          vehicle_class  engine_size  \\\n",
       "0  2002         FORD     FOCUS SEDAN #                COMPACT          2.0   \n",
       "1  2021      Porsche  Panamera Turbo S              Full-size          4.0   \n",
       "2  2011     INFINITI          EX35 AWD  STATION WAGON - SMALL          3.5   \n",
       "3  2005        BUICK    RENDEZVOUS AWD                    SUV          3.4   \n",
       "4  2016  ROLLS-ROYCE         GHOST EWB              FULL-SIZE          6.6   \n",
       "\n",
       "   cylinders transmission fuel_type  fuel_city_Lkm  fuel_hwy_Lkm  \\\n",
       "0          4           A4         X            9.1           6.8   \n",
       "1          8          AM8         Z           15.3          11.2   \n",
       "2          6          AS7         Z           12.4           8.5   \n",
       "3          6           A4         X           12.7           8.7   \n",
       "4         12          AS8         Z           19.2          12.4   \n",
       "\n",
       "   fuel_comb_Lkm  fuel_comb_mpg  co2  \n",
       "0            8.1             35  186  \n",
       "1           13.5             21  326  \n",
       "2           10.6             27  244  \n",
       "3           10.9             26  251  \n",
       "4           16.1             18  373  "
      ]
     },
     "execution_count": 29,
     "metadata": {},
     "output_type": "execute_result"
    }
   ],
   "source": [
    "df = cm.get_dataframe()\n",
    "df.head()"
   ]
  },
  {
   "cell_type": "code",
   "execution_count": 30,
   "metadata": {},
   "outputs": [
    {
     "name": "stdout",
     "output_type": "stream",
     "text": [
      "<class 'pandas.core.frame.DataFrame'>\n",
      "RangeIndex: 18044 entries, 0 to 18043\n",
      "Data columns (total 13 columns):\n",
      " #   Column         Non-Null Count  Dtype  \n",
      "---  ------         --------------  -----  \n",
      " 0   year           18044 non-null  int64  \n",
      " 1   brand          18044 non-null  object \n",
      " 2   model          18044 non-null  object \n",
      " 3   vehicle_class  18044 non-null  object \n",
      " 4   engine_size    18044 non-null  float64\n",
      " 5   cylinders      18044 non-null  int64  \n",
      " 6   transmission   18044 non-null  object \n",
      " 7   fuel_type      18044 non-null  object \n",
      " 8   fuel_city_Lkm  18044 non-null  float64\n",
      " 9   fuel_hwy_Lkm   18044 non-null  float64\n",
      " 10  fuel_comb_Lkm  18044 non-null  float64\n",
      " 11  fuel_comb_mpg  18044 non-null  int64  \n",
      " 12  co2            18044 non-null  int64  \n",
      "dtypes: float64(4), int64(4), object(5)\n",
      "memory usage: 1.8+ MB\n"
     ]
    }
   ],
   "source": [
    "df.info()"
   ]
  },
  {
   "cell_type": "code",
   "execution_count": 31,
   "metadata": {},
   "outputs": [
    {
     "data": {
      "text/plain": [
       "['year',\n",
       " 'engine_size',\n",
       " 'cylinders',\n",
       " 'fuel_city_Lkm',\n",
       " 'fuel_hwy_Lkm',\n",
       " 'fuel_comb_Lkm',\n",
       " 'fuel_comb_mpg',\n",
       " 'co2']"
      ]
     },
     "execution_count": 31,
     "metadata": {},
     "output_type": "execute_result"
    }
   ],
   "source": [
    "features_num = list(df.columns[df.dtypes != \"object\"])\n",
    "features_num"
   ]
  },
  {
   "cell_type": "code",
   "execution_count": 32,
   "metadata": {},
   "outputs": [
    {
     "data": {
      "text/plain": [
       "['year',\n",
       " 'engine_size',\n",
       " 'fuel_city_Lkm',\n",
       " 'fuel_hwy_Lkm',\n",
       " 'fuel_comb_Lkm',\n",
       " 'fuel_comb_mpg',\n",
       " 'co2']"
      ]
     },
     "execution_count": 32,
     "metadata": {},
     "output_type": "execute_result"
    }
   ],
   "source": [
    "features_transform = features_num.copy()\n",
    "features_transform.remove(\"cylinders\")\n",
    "\n",
    "features_transform"
   ]
  },
  {
   "cell_type": "code",
   "execution_count": 33,
   "metadata": {},
   "outputs": [
    {
     "data": {
      "image/png": "[encoded data removed]",
      "text/plain": [
       "<Figure size 640x480 with 9 Axes>"
      ]
     },
     "metadata": {},
     "output_type": "display_data"
    }
   ],
   "source": [
    "df[features_transform].hist()\n",
    "plt.tight_layout()"
   ]
  },
  {
   "cell_type": "code",
   "execution_count": 34,
   "metadata": {},
   "outputs": [],
   "source": [
    "target = \"fuel_comb_mpg\""
   ]
  },
  {
   "cell_type": "code",
   "execution_count": 35,
   "metadata": {},
   "outputs": [],
   "source": [
    "features_log = features_transform.copy()\n",
    "features_log.remove(\"year\")\n",
    "features_log.remove(target)"
   ]
  },
  {
   "cell_type": "code",
   "execution_count": 36,
   "metadata": {},
   "outputs": [
    {
     "data": {
      "image/png": "[encoded data removed]",
      "text/plain": [
       "<Figure size 640x480 with 1 Axes>"
      ]
     },
     "metadata": {},
     "output_type": "display_data"
    }
   ],
   "source": [
    "sns.kdeplot(df[target]);"
   ]
  },
  {
   "cell_type": "code",
   "execution_count": 37,
   "metadata": {},
   "outputs": [],
   "source": [
    "df[\"cylinders\"] = df[\"cylinders\"].astype(\"object\")"
   ]
  },
  {
   "cell_type": "code",
   "execution_count": 38,
   "metadata": {},
   "outputs": [
    {
     "data": {
      "text/plain": [
       "(18044, 13)"
      ]
     },
     "execution_count": 38,
     "metadata": {},
     "output_type": "execute_result"
    }
   ],
   "source": [
    "df.shape"
   ]
  },
  {
   "cell_type": "markdown",
   "metadata": {},
   "source": [
    "#**Apunte 2:** la variable model tiene demasiados datos para hacer onehotencoder. Igual podriamos eliminarla y quedarnos solo con brand?"
   ]
  },
  {
   "cell_type": "code",
   "execution_count": 39,
   "metadata": {},
   "outputs": [
    {
     "data": {
      "text/plain": [
       "model\n",
       "JETTA                    72\n",
       "MUSTANG                  65\n",
       "SILVERADO                50\n",
       "ALTIMA                   49\n",
       "RANGER                   49\n",
       "                         ..\n",
       "V70 R AWD WAGON TURBO     1\n",
       "G37X AWD COUPE            1\n",
       "RAV4 LIMITED/SE AWD       1\n",
       "NAVIGATOR 4X4 #           1\n",
       "R 320 CDI                 1\n",
       "Name: count, Length: 3995, dtype: int64"
      ]
     },
     "execution_count": 39,
     "metadata": {},
     "output_type": "execute_result"
    }
   ],
   "source": [
    "df[\"model\"].value_counts()\n"
   ]
  },
  {
   "cell_type": "code",
   "execution_count": 40,
   "metadata": {},
   "outputs": [],
   "source": [
    "#train = train.drop(\"model\", axis=1)"
   ]
  },
  {
   "cell_type": "code",
   "execution_count": 41,
   "metadata": {},
   "outputs": [
    {
     "name": "stdout",
     "output_type": "stream",
     "text": [
      "Index(['brand', 'model', 'vehicle_class', 'cylinders', 'transmission',\n",
      "       'fuel_type'],\n",
      "      dtype='object')\n"
     ]
    }
   ],
   "source": [
    "#Selección categoricas \n",
    "categorical_cols = df.select_dtypes(include=['object']).columns\n",
    "print(categorical_cols)"
   ]
  },
  {
   "cell_type": "code",
   "execution_count": 42,
   "metadata": {},
   "outputs": [],
   "source": [
    "#Hay valores repetidos pero escritos diferente.Normalizamos:\n",
    "\n",
    "df[categorical_cols] = df[categorical_cols].apply(lambda x: x.astype(str).str.lower())"
   ]
  },
  {
   "cell_type": "code",
   "execution_count": 43,
   "metadata": {},
   "outputs": [
    {
     "name": "stdout",
     "output_type": "stream",
     "text": [
      "(18044, 3654)\n"
     ]
    }
   ],
   "source": [
    "\n",
    "\n",
    "# Pipeline categoricas\n",
    "cat_pipeline = Pipeline([\n",
    "    (\"Impute_Mode\", SimpleImputer(strategy=\"most_frequent\")),  # metemos la moda \n",
    "    (\"OHEncoder\", OneHotEncoder(handle_unknown=\"ignore\"))      \n",
    "])\n",
    "# Transformación logarítmica\n",
    "log_transformer = FunctionTransformer(lambda x: np.log(x + 1))  # Sumar 1 para evitar log(0)\n",
    "\n",
    "# Pipeline para transformación logarítmica y escalado de las numericas\n",
    "num_pipeline = Pipeline([\n",
    "    (\"log\", log_transformer),\n",
    "    (\"scaler\", MinMaxScaler()) \n",
    "])\n",
    "\n",
    "\n",
    "preprocessing = ColumnTransformer([\n",
    "        (\"cat\", cat_pipeline, categorical_cols),\n",
    "        (\"log_and_scaler\", num_pipeline, features_log), \n",
    "        (\"scaler_only\", MinMaxScaler(), [\"year\"]),\n",
    "        (\"exclude\", \"drop\", target )\n",
    "]) \n",
    "\n",
    "# train_categorical = df[categorical_cols]\n",
    "\n",
    "# train_processed = preprocessing.fit_transform(train_categorical)\n",
    "\n",
    "train = preprocessing.fit_transform(df)\n",
    "print(train.shape)\n",
    "\n",
    "\n",
    "#nombres de las nuevas columnas\n",
    "# encoded_cols = preprocessing.transformers_[0][1].named_steps['OHEncoder'].get_feature_names_out(categorical_cols)\n",
    "\n",
    "# train_processed_dense = train_processed.toarray()\n",
    "\n",
    "# X_train_processed_df = pd.DataFrame(train_processed_dense, columns=encoded_cols)\n",
    "\n",
    "# X_train_processed_df.head()"
   ]
  },
  {
   "cell_type": "code",
   "execution_count": 44,
   "metadata": {},
   "outputs": [],
   "source": [
    "# # Transformación logarítmica\n",
    "# log_transformer = FunctionTransformer(lambda x: np.log(x + 1))  # Sumar 1 para evitar log(0)\n",
    "\n",
    "# # Pipeline para transformación logarítmica y escalado\n",
    "# num_pipeline = Pipeline([\n",
    "#     (\"log\", log_transformer),\n",
    "#     (\"scaler\", MinMaxScaler()) \n",
    "# ])\n",
    "\n",
    "# # Preprocesador con todas las transformaciones\n",
    "# preprocessing_pipeline = ColumnTransformer([\n",
    "#     (\"log_and_scaler\", num_pipeline, features_log), \n",
    "#     (\"scaler_only\", MinMaxScaler(), [\"year\"]),\n",
    "# ])\n",
    "# # (\"ohe\", OneHotEncoder(handle_unknown = \"ignore\"), [\"cylinders\"])  # OneHotEncoding\n",
    "\n",
    "# # Aplicar las transformaciones\n",
    "# train = preprocessing_pipeline.fit_transform(df)\n",
    "# pd.DataFrame(train)"
   ]
  },
  {
   "cell_type": "code",
   "execution_count": 46,
   "metadata": {},
   "outputs": [],
   "source": [
    "\n",
    "# Pipeline para Linear Regression\n",
    "lr_pipeline = Pipeline([\n",
    "    ('Premodelado', preprocessing),   \n",
    "    ('ModeloRegressor', LinearRegression())\n",
    "])\n",
    "\n",
    "# Pipeline para Random Forest\n",
    "rf_pipeline = Pipeline([\n",
    "    ('Premodelado', preprocessing),\n",
    "    ('ModeloRegressor', RandomForestRegressor(random_state=42))\n",
    "])\n",
    "\n",
    "# Pipeline para XGBoost\n",
    "xgb_pipeline = Pipeline([\n",
    "    ('Premodelado', preprocessing),\n",
    "    ('ModeloRegressor', xgb.XGBRegressor(random_state=42))\n",
    "])\n",
    "\n"
   ]
  },
  {
   "cell_type": "code",
   "execution_count": 50,
   "metadata": {},
   "outputs": [],
   "source": [
    "y_train = np.log(df[target]+1).to_numpy()"
   ]
  },
  {
   "cell_type": "code",
   "execution_count": 54,
   "metadata": {},
   "outputs": [
    {
     "data": {
      "text/plain": [
       "(18044,)"
      ]
     },
     "execution_count": 54,
     "metadata": {},
     "output_type": "execute_result"
    }
   ],
   "source": [
    "y_train.shape"
   ]
  },
  {
   "cell_type": "code",
   "execution_count": 53,
   "metadata": {},
   "outputs": [
    {
     "data": {
      "text/plain": [
       "<Compressed Sparse Row sparse matrix of dtype 'float64'\n",
       "\twith 216010 stored elements and shape (18044, 3654)>"
      ]
     },
     "execution_count": 53,
     "metadata": {},
     "output_type": "execute_result"
    }
   ],
   "source": [
    "train"
   ]
  },
  {
   "cell_type": "code",
   "execution_count": 58,
   "metadata": {},
   "outputs": [
    {
     "name": "stdout",
     "output_type": "stream",
     "text": [
      "lr_pipeline: 0.0118\n",
      "[-0.01164344 -0.01167042 -0.01165193 -0.01200636 -0.01198041]\n",
      "rf_pipeline: 0.0007\n",
      "[-0.00036543 -0.00089422 -0.00076428 -0.00028062 -0.00126254]\n",
      "xgb_pipeline: 0.0009\n",
      "[-0.00063021 -0.00074102 -0.00084555 -0.00136103 -0.00116514]\n"
     ]
    }
   ],
   "source": [
    "cv= 5\n",
    "\n",
    "#se aplica la validacion cruzada a cada modelo \n",
    "#scoring utilizo la raiz del error cuadratico medio\n",
    "for name, pipe in zip([\"lr_pipeline\",\"rf_pipeline\", \"xgb_pipeline\"],[lr_pipeline, rf_pipeline, xgb_pipeline]):\n",
    "    resultado = cross_val_score(pipe, df, y_train, cv = cv, scoring = \"neg_root_mean_squared_error\")\n",
    "    print(f\"{name}: {-np.mean(resultado):.4f}\")\n",
    "    print(resultado)"
   ]
  },
  {
   "cell_type": "code",
   "execution_count": null,
   "metadata": {},
   "outputs": [],
   "source": [
    "# Linear Regression\n",
    "lr_params = {\n",
    "    'ModeloRegressor__fit_intercept': [True, False], # si tiene o no intercept\n",
    "    'ModeloRegressor__normalize' :  [True, False]  # normaliza, aunque puede ser redundante si ya se han prpcesado correctamente los datos\n",
    "}\n",
    "\n",
    "lr_grid = GridSearchCV(\n",
    "    lr_pipeline, \n",
    "    lr_params, \n",
    "    cv=cv, \n",
    "    scoring='neg_root_mean_square_error',\n",
    "    verbose=1,\n",
    "    n_jobs=-1\n",
    ")\n",
    "\n",
    "# Random Forest GridSearchCV\n",
    "rf_params = {\n",
    "    'ModeloRegressor__n_estimators': [50, 100, 200],\n",
    "    'ModeloRegressor__max_depth': [None, 10, 20, 50],\n",
    "    'ModeloRegressor__min_samples_split': [2, 5],\n",
    "    # 'ModeloRegressor__bootstrap': [True, False] #`bootstrap`: Puede ser interesante probar tanto True como False  \n",
    "}\n",
    "\n",
    "rf_grid = GridSearchCV(\n",
    "    rf_pipeline, \n",
    "    rf_params, \n",
    "    cv=cv, \n",
    "    scoring='neg_root_mean_square_error',\n",
    "    verbose=1,\n",
    "    n_jobs=-1\n",
    ")\n",
    "\n",
    "\n",
    "\n",
    "# XGBoost GridSearchCV\n",
    "xgb_params = {\n",
    "    'ModeloRegressor__n_estimators': [50, 100, 200],\n",
    "    'ModeloRegressor__learning_rate': [0.05, 0.1],\n",
    "    'ModeloRegressor__max_depth': [3, 5, 10],\n",
    "    'ModeloRegressor__subsample': [0.8, 1.0]\n",
    "}\n",
    "\n",
    "xgb_grid = GridSearchCV(\n",
    "    xgb_pipeline, \n",
    "    xgb_params, \n",
    "    cv=cv, \n",
    "    scoring='neg_root_mean_square_error',\n",
    "    verbose=1,\n",
    "    n_jobs=-1\n",
    ")\n",
    "\n",
    "\n",
    "pipe_grids = {\"gs_lr\":lr_grid,\n",
    "         \"gs_rand_forest\":rf_grid,\n",
    "         \"gs_xgb\":xgb_grid}\n"
   ]
  }
 ],
 "metadata": {
  "kernelspec": {
   "display_name": "entorno_virtual",
   "language": "python",
   "name": "python3"
  },
  "language_info": {
   "codemirror_mode": {
    "name": "ipython",
    "version": 3
   },
   "file_extension": ".py",
   "mimetype": "text/x-python",
   "name": "python",
   "nbconvert_exporter": "python",
   "pygments_lexer": "ipython3",
   "version": "3.12.7"
  }
 },
 "nbformat": 4,
 "nbformat_minor": 2
}
